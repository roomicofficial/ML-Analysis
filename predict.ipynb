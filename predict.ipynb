{
 "cells": [
  {
   "cell_type": "code",
   "execution_count": 11,
   "id": "e9fe746d-5e54-4246-ac55-8b665fc2dca7",
   "metadata": {},
   "outputs": [
    {
     "name": "stdout",
     "output_type": "stream",
     "text": [
      "\n",
      "Top retry dates after 2025-03-22 with confidence scores:\n",
      "2025-03-23 - Confidence: 67.7699966430664%\n",
      "2025-04-06 - Confidence: 63.689998626708984%\n",
      "2025-04-13 - Confidence: 63.43000030517578%\n",
      "2025-04-05 - Confidence: 62.900001525878906%\n"
     ]
    }
   ],
   "source": [
    "import joblib\n",
    "import pandas as pd\n",
    "from datetime import datetime, timedelta\n",
    "\n",
    "def get_top_retry_dates_after(card_number, card_brand, currency_code, amount, after_date, days_ahead=30, top_k=4):\n",
    "    model = joblib.load('./enterprise_retry_model.pkl')\n",
    "    le_card, le_brand, le_currency = joblib.load('./enterprise_encoders.pkl')\n",
    "\n",
    "    if card_number not in le_card.classes_:\n",
    "        return [\"Unknown card\"]\n",
    "\n",
    "    card_id = le_card.transform([card_number])[0]\n",
    "    brand_id = le_brand.transform([card_brand])[0]\n",
    "    currency_id = le_currency.transform([currency_code])[0]\n",
    "\n",
    "    start_date = pd.to_datetime(after_date).date()\n",
    "    rows = []\n",
    "    for i in range(1, days_ahead + 1):\n",
    "        date = start_date + timedelta(days=i)\n",
    "        row = {\n",
    "            'card_number_enc': card_id,\n",
    "            'card_brand_enc': brand_id,\n",
    "            'currency_enc': currency_id,\n",
    "            'transaction_amount': amount,\n",
    "            'weekday': date.weekday(),\n",
    "            'month': date.month,\n",
    "            'is_weekend': int(date.weekday() in [5, 6]),\n",
    "            'is_month_start': int(date.day <= 3),\n",
    "            'is_month_end': int(date.day >= 28),\n",
    "            'txn_index': 500 + i,\n",
    "            'rolling_success_7d': 0.5,\n",
    "            'avg_success_rate': 0.5,\n",
    "            'days_since_last_txn': i\n",
    "        }\n",
    "        rows.append((date, row))\n",
    "\n",
    "    df_future = pd.DataFrame([r[1] for r in rows])\n",
    "    probs = model.predict_proba(df_future)[:, 1]\n",
    "    ranked = sorted(zip([r[0] for r in rows], probs), key=lambda x: -x[1])\n",
    "    return [(d.strftime('%Y-%m-%d'), round(p * 100, 2)) for d, p in ranked[:top_k]]\n",
    "\n",
    "\n",
    "# === Example usage ===\n",
    "if __name__ == '__main__':\n",
    "    sample_input = {\n",
    "        'card_number': 'card_0',\n",
    "        'card_brand': 'VISA',\n",
    "        'currency_code': 'USD',\n",
    "        'transaction_amount': 120.0,\n",
    "        'after_date': datetime(2025, 3, 22)\n",
    "    }\n",
    "\n",
    "    recommended_dates = get_top_retry_dates_after(\n",
    "        sample_input['card_number'],\n",
    "        sample_input['card_brand'],\n",
    "        sample_input['currency_code'],\n",
    "        sample_input['transaction_amount'],\n",
    "        sample_input['after_date']\n",
    "    )\n",
    "\n",
    "    print(f\"\\nTop retry dates after {sample_input['after_date'].date()} with confidence scores:\")\n",
    "    for date, confidence in recommended_dates:\n",
    "        print(f\"{date} - Confidence: {confidence}%\")"
   ]
  },
  {
   "cell_type": "code",
   "execution_count": null,
   "id": "52859f71-1bd6-4c4c-85e4-0fb6bbf40992",
   "metadata": {},
   "outputs": [],
   "source": []
  },
  {
   "cell_type": "code",
   "execution_count": null,
   "id": "91fa585d-5609-4bbb-96ff-9ebb5a0d9676",
   "metadata": {},
   "outputs": [],
   "source": []
  }
 ],
 "metadata": {
  "kernelspec": {
   "display_name": "Python 3 (ipykernel)",
   "language": "python",
   "name": "python3"
  },
  "language_info": {
   "codemirror_mode": {
    "name": "ipython",
    "version": 3
   },
   "file_extension": ".py",
   "mimetype": "text/x-python",
   "name": "python",
   "nbconvert_exporter": "python",
   "pygments_lexer": "ipython3",
   "version": "3.12.9"
  }
 },
 "nbformat": 4,
 "nbformat_minor": 5
}
